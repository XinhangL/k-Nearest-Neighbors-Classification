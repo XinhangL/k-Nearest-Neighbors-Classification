{
 "cells": [
  {
   "cell_type": "code",
   "execution_count": 1,
   "metadata": {},
   "outputs": [],
   "source": [
    "from scipy.io import arff\n",
    "import pandas as pd\n",
    "import numpy as np \n",
    "import seaborn as sns\n",
    "import matplotlib.pyplot as plt\n",
    "\n",
    "from sklearn.neighbors import KNeighborsClassifier\n",
    "from sklearn.model_selection import train_test_split, GridSearchCV, cross_val_score, cross_validate, StratifiedKFold\n"
   ]
  },
  {
   "cell_type": "code",
   "execution_count": 2,
   "metadata": {
    "scrolled": true
   },
   "outputs": [
    {
     "data": {
      "text/html": [
       "<div>\n",
       "<style scoped>\n",
       "    .dataframe tbody tr th:only-of-type {\n",
       "        vertical-align: middle;\n",
       "    }\n",
       "\n",
       "    .dataframe tbody tr th {\n",
       "        vertical-align: top;\n",
       "    }\n",
       "\n",
       "    .dataframe thead th {\n",
       "        text-align: right;\n",
       "    }\n",
       "</style>\n",
       "<table border=\"1\" class=\"dataframe\">\n",
       "  <thead>\n",
       "    <tr style=\"text-align: right;\">\n",
       "      <th></th>\n",
       "      <th>att1</th>\n",
       "      <th>att2</th>\n",
       "      <th>att3</th>\n",
       "      <th>att4</th>\n",
       "      <th>att5</th>\n",
       "      <th>att6</th>\n",
       "      <th>att7</th>\n",
       "      <th>att8</th>\n",
       "      <th>att9</th>\n",
       "      <th>att10</th>\n",
       "      <th>...</th>\n",
       "      <th>att712</th>\n",
       "      <th>att713</th>\n",
       "      <th>att714</th>\n",
       "      <th>att715</th>\n",
       "      <th>att716</th>\n",
       "      <th>att717</th>\n",
       "      <th>att718</th>\n",
       "      <th>att719</th>\n",
       "      <th>att720</th>\n",
       "      <th>target</th>\n",
       "    </tr>\n",
       "  </thead>\n",
       "  <tbody>\n",
       "    <tr>\n",
       "      <th>370</th>\n",
       "      <td>-0.097069</td>\n",
       "      <td>-0.097069</td>\n",
       "      <td>-0.097069</td>\n",
       "      <td>-0.097069</td>\n",
       "      <td>-0.097069</td>\n",
       "      <td>-0.097069</td>\n",
       "      <td>-0.097069</td>\n",
       "      <td>-0.097069</td>\n",
       "      <td>-0.097069</td>\n",
       "      <td>-0.097069</td>\n",
       "      <td>...</td>\n",
       "      <td>-0.097069</td>\n",
       "      <td>-0.097069</td>\n",
       "      <td>-0.097069</td>\n",
       "      <td>-0.097069</td>\n",
       "      <td>-0.097069</td>\n",
       "      <td>-0.097069</td>\n",
       "      <td>-0.097069</td>\n",
       "      <td>-0.097069</td>\n",
       "      <td>-0.097069</td>\n",
       "      <td>b'3'</td>\n",
       "    </tr>\n",
       "    <tr>\n",
       "      <th>371</th>\n",
       "      <td>-0.064789</td>\n",
       "      <td>-0.064789</td>\n",
       "      <td>-0.064789</td>\n",
       "      <td>-0.064789</td>\n",
       "      <td>-0.064789</td>\n",
       "      <td>-0.064789</td>\n",
       "      <td>-0.064789</td>\n",
       "      <td>-0.064789</td>\n",
       "      <td>-0.064789</td>\n",
       "      <td>-0.064789</td>\n",
       "      <td>...</td>\n",
       "      <td>-0.064789</td>\n",
       "      <td>-0.064789</td>\n",
       "      <td>-0.064789</td>\n",
       "      <td>-0.064789</td>\n",
       "      <td>-0.064789</td>\n",
       "      <td>-0.064789</td>\n",
       "      <td>-0.064789</td>\n",
       "      <td>-0.064789</td>\n",
       "      <td>-0.064789</td>\n",
       "      <td>b'3'</td>\n",
       "    </tr>\n",
       "    <tr>\n",
       "      <th>372</th>\n",
       "      <td>-0.141824</td>\n",
       "      <td>-0.141824</td>\n",
       "      <td>-0.141824</td>\n",
       "      <td>-0.141824</td>\n",
       "      <td>-0.141824</td>\n",
       "      <td>-0.141824</td>\n",
       "      <td>-0.141824</td>\n",
       "      <td>-0.141824</td>\n",
       "      <td>-0.141824</td>\n",
       "      <td>-0.141824</td>\n",
       "      <td>...</td>\n",
       "      <td>-0.141824</td>\n",
       "      <td>-0.141824</td>\n",
       "      <td>-0.141824</td>\n",
       "      <td>-0.141824</td>\n",
       "      <td>-0.141824</td>\n",
       "      <td>-0.141824</td>\n",
       "      <td>-0.141824</td>\n",
       "      <td>-0.141824</td>\n",
       "      <td>-0.141824</td>\n",
       "      <td>b'3'</td>\n",
       "    </tr>\n",
       "    <tr>\n",
       "      <th>373</th>\n",
       "      <td>-0.123813</td>\n",
       "      <td>-0.123813</td>\n",
       "      <td>-0.123813</td>\n",
       "      <td>-0.123813</td>\n",
       "      <td>-0.123813</td>\n",
       "      <td>-0.123813</td>\n",
       "      <td>-0.123813</td>\n",
       "      <td>-0.123813</td>\n",
       "      <td>-0.123813</td>\n",
       "      <td>-0.123813</td>\n",
       "      <td>...</td>\n",
       "      <td>-0.123813</td>\n",
       "      <td>-0.123813</td>\n",
       "      <td>-0.123813</td>\n",
       "      <td>-0.123813</td>\n",
       "      <td>-0.123813</td>\n",
       "      <td>-0.123813</td>\n",
       "      <td>-0.123813</td>\n",
       "      <td>-0.123813</td>\n",
       "      <td>-0.123813</td>\n",
       "      <td>b'3'</td>\n",
       "    </tr>\n",
       "    <tr>\n",
       "      <th>374</th>\n",
       "      <td>-0.171906</td>\n",
       "      <td>-0.171906</td>\n",
       "      <td>-0.171906</td>\n",
       "      <td>-0.171906</td>\n",
       "      <td>-0.171906</td>\n",
       "      <td>-0.163684</td>\n",
       "      <td>-0.171906</td>\n",
       "      <td>-0.171906</td>\n",
       "      <td>-0.171906</td>\n",
       "      <td>-0.171906</td>\n",
       "      <td>...</td>\n",
       "      <td>-0.171906</td>\n",
       "      <td>-0.171906</td>\n",
       "      <td>-0.171906</td>\n",
       "      <td>-0.171906</td>\n",
       "      <td>-0.171906</td>\n",
       "      <td>-0.171906</td>\n",
       "      <td>-0.171906</td>\n",
       "      <td>-0.171906</td>\n",
       "      <td>-0.171906</td>\n",
       "      <td>b'3'</td>\n",
       "    </tr>\n",
       "  </tbody>\n",
       "</table>\n",
       "<p>5 rows × 721 columns</p>\n",
       "</div>"
      ],
      "text/plain": [
       "         att1      att2      att3      att4      att5      att6      att7  \\\n",
       "370 -0.097069 -0.097069 -0.097069 -0.097069 -0.097069 -0.097069 -0.097069   \n",
       "371 -0.064789 -0.064789 -0.064789 -0.064789 -0.064789 -0.064789 -0.064789   \n",
       "372 -0.141824 -0.141824 -0.141824 -0.141824 -0.141824 -0.141824 -0.141824   \n",
       "373 -0.123813 -0.123813 -0.123813 -0.123813 -0.123813 -0.123813 -0.123813   \n",
       "374 -0.171906 -0.171906 -0.171906 -0.171906 -0.171906 -0.163684 -0.171906   \n",
       "\n",
       "         att8      att9     att10  ...    att712    att713    att714  \\\n",
       "370 -0.097069 -0.097069 -0.097069  ... -0.097069 -0.097069 -0.097069   \n",
       "371 -0.064789 -0.064789 -0.064789  ... -0.064789 -0.064789 -0.064789   \n",
       "372 -0.141824 -0.141824 -0.141824  ... -0.141824 -0.141824 -0.141824   \n",
       "373 -0.123813 -0.123813 -0.123813  ... -0.123813 -0.123813 -0.123813   \n",
       "374 -0.171906 -0.171906 -0.171906  ... -0.171906 -0.171906 -0.171906   \n",
       "\n",
       "       att715    att716    att717    att718    att719    att720  target  \n",
       "370 -0.097069 -0.097069 -0.097069 -0.097069 -0.097069 -0.097069    b'3'  \n",
       "371 -0.064789 -0.064789 -0.064789 -0.064789 -0.064789 -0.064789    b'3'  \n",
       "372 -0.141824 -0.141824 -0.141824 -0.141824 -0.141824 -0.141824    b'3'  \n",
       "373 -0.123813 -0.123813 -0.123813 -0.123813 -0.123813 -0.123813    b'3'  \n",
       "374 -0.171906 -0.171906 -0.171906 -0.171906 -0.171906 -0.171906    b'3'  \n",
       "\n",
       "[5 rows x 721 columns]"
      ]
     },
     "execution_count": 2,
     "metadata": {},
     "output_type": "execute_result"
    }
   ],
   "source": [
    "# import dataset\n",
    "data = arff.loadarff('LargeKitchenAppliances_TEST.arff')\n",
    "test = pd.DataFrame(data[0])\n",
    "\n",
    "test.tail()"
   ]
  },
  {
   "cell_type": "code",
   "execution_count": 3,
   "metadata": {},
   "outputs": [
    {
     "data": {
      "text/html": [
       "<div>\n",
       "<style scoped>\n",
       "    .dataframe tbody tr th:only-of-type {\n",
       "        vertical-align: middle;\n",
       "    }\n",
       "\n",
       "    .dataframe tbody tr th {\n",
       "        vertical-align: top;\n",
       "    }\n",
       "\n",
       "    .dataframe thead th {\n",
       "        text-align: right;\n",
       "    }\n",
       "</style>\n",
       "<table border=\"1\" class=\"dataframe\">\n",
       "  <thead>\n",
       "    <tr style=\"text-align: right;\">\n",
       "      <th></th>\n",
       "      <th>att1</th>\n",
       "      <th>att2</th>\n",
       "      <th>att3</th>\n",
       "      <th>att4</th>\n",
       "      <th>att5</th>\n",
       "      <th>att6</th>\n",
       "      <th>att7</th>\n",
       "      <th>att8</th>\n",
       "      <th>att9</th>\n",
       "      <th>att10</th>\n",
       "      <th>...</th>\n",
       "      <th>att712</th>\n",
       "      <th>att713</th>\n",
       "      <th>att714</th>\n",
       "      <th>att715</th>\n",
       "      <th>att716</th>\n",
       "      <th>att717</th>\n",
       "      <th>att718</th>\n",
       "      <th>att719</th>\n",
       "      <th>att720</th>\n",
       "      <th>target</th>\n",
       "    </tr>\n",
       "  </thead>\n",
       "  <tbody>\n",
       "    <tr>\n",
       "      <th>370</th>\n",
       "      <td>-0.457814</td>\n",
       "      <td>-0.457814</td>\n",
       "      <td>-0.457814</td>\n",
       "      <td>-0.457814</td>\n",
       "      <td>-0.457814</td>\n",
       "      <td>-0.457814</td>\n",
       "      <td>-0.457814</td>\n",
       "      <td>-0.457814</td>\n",
       "      <td>-0.457814</td>\n",
       "      <td>-0.457814</td>\n",
       "      <td>...</td>\n",
       "      <td>-0.457814</td>\n",
       "      <td>-0.457814</td>\n",
       "      <td>-0.457814</td>\n",
       "      <td>-0.457814</td>\n",
       "      <td>-0.457814</td>\n",
       "      <td>-0.457814</td>\n",
       "      <td>-0.457814</td>\n",
       "      <td>-0.457814</td>\n",
       "      <td>-0.457814</td>\n",
       "      <td>b'3'</td>\n",
       "    </tr>\n",
       "    <tr>\n",
       "      <th>371</th>\n",
       "      <td>-0.312653</td>\n",
       "      <td>-0.312653</td>\n",
       "      <td>-0.312653</td>\n",
       "      <td>-0.312653</td>\n",
       "      <td>-0.312653</td>\n",
       "      <td>-0.312653</td>\n",
       "      <td>-0.312653</td>\n",
       "      <td>-0.312653</td>\n",
       "      <td>-0.312653</td>\n",
       "      <td>-0.312653</td>\n",
       "      <td>...</td>\n",
       "      <td>-0.312653</td>\n",
       "      <td>-0.312653</td>\n",
       "      <td>-0.312653</td>\n",
       "      <td>-0.312653</td>\n",
       "      <td>-0.312653</td>\n",
       "      <td>-0.312653</td>\n",
       "      <td>-0.312653</td>\n",
       "      <td>-0.312653</td>\n",
       "      <td>-0.312653</td>\n",
       "      <td>b'3'</td>\n",
       "    </tr>\n",
       "    <tr>\n",
       "      <th>372</th>\n",
       "      <td>-0.206270</td>\n",
       "      <td>-0.206270</td>\n",
       "      <td>-0.206270</td>\n",
       "      <td>-0.206270</td>\n",
       "      <td>-0.206270</td>\n",
       "      <td>-0.206270</td>\n",
       "      <td>-0.206270</td>\n",
       "      <td>-0.206270</td>\n",
       "      <td>-0.206270</td>\n",
       "      <td>-0.206270</td>\n",
       "      <td>...</td>\n",
       "      <td>-0.206270</td>\n",
       "      <td>-0.206270</td>\n",
       "      <td>-0.206270</td>\n",
       "      <td>-0.206270</td>\n",
       "      <td>-0.206270</td>\n",
       "      <td>-0.206270</td>\n",
       "      <td>-0.206270</td>\n",
       "      <td>-0.206270</td>\n",
       "      <td>-0.206270</td>\n",
       "      <td>b'3'</td>\n",
       "    </tr>\n",
       "    <tr>\n",
       "      <th>373</th>\n",
       "      <td>-0.175033</td>\n",
       "      <td>-0.175033</td>\n",
       "      <td>-0.175033</td>\n",
       "      <td>-0.175033</td>\n",
       "      <td>-0.175033</td>\n",
       "      <td>-0.175033</td>\n",
       "      <td>-0.175033</td>\n",
       "      <td>-0.175033</td>\n",
       "      <td>-0.175033</td>\n",
       "      <td>-0.175033</td>\n",
       "      <td>...</td>\n",
       "      <td>-0.175033</td>\n",
       "      <td>-0.175033</td>\n",
       "      <td>-0.175033</td>\n",
       "      <td>-0.175033</td>\n",
       "      <td>-0.175033</td>\n",
       "      <td>-0.175033</td>\n",
       "      <td>-0.175033</td>\n",
       "      <td>-0.175033</td>\n",
       "      <td>-0.175033</td>\n",
       "      <td>b'3'</td>\n",
       "    </tr>\n",
       "    <tr>\n",
       "      <th>374</th>\n",
       "      <td>-0.131219</td>\n",
       "      <td>-0.131219</td>\n",
       "      <td>-0.131219</td>\n",
       "      <td>-0.131219</td>\n",
       "      <td>-0.131219</td>\n",
       "      <td>-0.131219</td>\n",
       "      <td>-0.131219</td>\n",
       "      <td>-0.131219</td>\n",
       "      <td>-0.131219</td>\n",
       "      <td>-0.131219</td>\n",
       "      <td>...</td>\n",
       "      <td>-0.131219</td>\n",
       "      <td>-0.131219</td>\n",
       "      <td>-0.131219</td>\n",
       "      <td>-0.131219</td>\n",
       "      <td>-0.131219</td>\n",
       "      <td>-0.131219</td>\n",
       "      <td>-0.131219</td>\n",
       "      <td>-0.131219</td>\n",
       "      <td>-0.131219</td>\n",
       "      <td>b'3'</td>\n",
       "    </tr>\n",
       "  </tbody>\n",
       "</table>\n",
       "<p>5 rows × 721 columns</p>\n",
       "</div>"
      ],
      "text/plain": [
       "         att1      att2      att3      att4      att5      att6      att7  \\\n",
       "370 -0.457814 -0.457814 -0.457814 -0.457814 -0.457814 -0.457814 -0.457814   \n",
       "371 -0.312653 -0.312653 -0.312653 -0.312653 -0.312653 -0.312653 -0.312653   \n",
       "372 -0.206270 -0.206270 -0.206270 -0.206270 -0.206270 -0.206270 -0.206270   \n",
       "373 -0.175033 -0.175033 -0.175033 -0.175033 -0.175033 -0.175033 -0.175033   \n",
       "374 -0.131219 -0.131219 -0.131219 -0.131219 -0.131219 -0.131219 -0.131219   \n",
       "\n",
       "         att8      att9     att10  ...    att712    att713    att714  \\\n",
       "370 -0.457814 -0.457814 -0.457814  ... -0.457814 -0.457814 -0.457814   \n",
       "371 -0.312653 -0.312653 -0.312653  ... -0.312653 -0.312653 -0.312653   \n",
       "372 -0.206270 -0.206270 -0.206270  ... -0.206270 -0.206270 -0.206270   \n",
       "373 -0.175033 -0.175033 -0.175033  ... -0.175033 -0.175033 -0.175033   \n",
       "374 -0.131219 -0.131219 -0.131219  ... -0.131219 -0.131219 -0.131219   \n",
       "\n",
       "       att715    att716    att717    att718    att719    att720  target  \n",
       "370 -0.457814 -0.457814 -0.457814 -0.457814 -0.457814 -0.457814    b'3'  \n",
       "371 -0.312653 -0.312653 -0.312653 -0.312653 -0.312653 -0.312653    b'3'  \n",
       "372 -0.206270 -0.206270 -0.206270 -0.206270 -0.206270 -0.206270    b'3'  \n",
       "373 -0.175033 -0.175033 -0.175033 -0.175033 -0.175033 -0.175033    b'3'  \n",
       "374 -0.131219 -0.131219 -0.131219 -0.131219 -0.131219 -0.131219    b'3'  \n",
       "\n",
       "[5 rows x 721 columns]"
      ]
     },
     "execution_count": 3,
     "metadata": {},
     "output_type": "execute_result"
    }
   ],
   "source": [
    "data = arff.loadarff('LargeKitchenAppliances_TRAIN.arff')\n",
    "train = pd.DataFrame(data[0])\n",
    "\n",
    "train.tail()"
   ]
  },
  {
   "cell_type": "code",
   "execution_count": 4,
   "metadata": {},
   "outputs": [],
   "source": [
    "# prepare dataset\n",
    "y_train = train['target']\n",
    "X_train = train.drop('target', axis=1)\n",
    "y_test = test['target']\n",
    "X_test = test.drop('target', axis=1)"
   ]
  },
  {
   "cell_type": "code",
   "execution_count": 5,
   "metadata": {},
   "outputs": [],
   "source": [
    "# treat labels column as categorical values\n",
    "y_train = y_train.astype('int')\n",
    "y_test = y_test.astype('int')"
   ]
  },
  {
   "cell_type": "code",
   "execution_count": 6,
   "metadata": {},
   "outputs": [
    {
     "name": "stdout",
     "output_type": "stream",
     "text": [
      "(375, 720) (375, 720) (375,) (375,)\n"
     ]
    }
   ],
   "source": [
    "print(X_train.shape, X_test.shape, y_train.shape, y_test.shape)"
   ]
  },
  {
   "cell_type": "code",
   "execution_count": 24,
   "metadata": {},
   "outputs": [],
   "source": [
    "# modeling\n",
    "test_scores = []\n",
    "train_scores = []\n",
    "\n",
    "for i in range(1,40):\n",
    "\n",
    "    knn = KNeighborsClassifier(i)\n",
    "    knn.fit(X_train,y_train)\n",
    "    \n",
    "    train_scores.append(knn.score(X_train,y_train))\n",
    "    test_scores.append(knn.score(X_test,y_test))"
   ]
  },
  {
   "cell_type": "code",
   "execution_count": 33,
   "metadata": {},
   "outputs": [
    {
     "name": "stdout",
     "output_type": "stream",
     "text": [
      "Max train accuracy score 100.0 % and k = [1]\n"
     ]
    }
   ],
   "source": [
    "# check train score\n",
    "max_train_score = max(train_scores)\n",
    "train_scores_ind = [i for i, v in enumerate(train_scores) if v == max_train_score]\n",
    "print('Max train accuracy score {} % and k = {}'.format(max_train_score*100,list(map(lambda x: x+1, train_scores_ind))))"
   ]
  },
  {
   "cell_type": "code",
   "execution_count": 34,
   "metadata": {},
   "outputs": [
    {
     "name": "stdout",
     "output_type": "stream",
     "text": [
      "Max test accuracy score 49.333333333333336 % and k = [1]\n"
     ]
    }
   ],
   "source": [
    "# check test score\n",
    "max_test_score = max(test_scores)\n",
    "test_scores_ind = [i for i, v in enumerate(test_scores) if v == max_test_score]\n",
    "print('Max test accuracy score {} % and k = {}'.format(max_test_score*100,list(map(lambda x: x+1, test_scores_ind))))"
   ]
  },
  {
   "cell_type": "code",
   "execution_count": 29,
   "metadata": {
    "scrolled": false
   },
   "outputs": [
    {
     "name": "stderr",
     "output_type": "stream",
     "text": [
      "C:\\Users\\Xinhang\\anaconda3\\lib\\site-packages\\seaborn\\_decorators.py:36: FutureWarning: Pass the following variables as keyword args: x, y. From version 0.12, the only valid positional argument will be `data`, and passing other arguments without an explicit keyword will result in an error or misinterpretation.\n",
      "  warnings.warn(\n",
      "C:\\Users\\Xinhang\\anaconda3\\lib\\site-packages\\seaborn\\_decorators.py:36: FutureWarning: Pass the following variables as keyword args: x, y. From version 0.12, the only valid positional argument will be `data`, and passing other arguments without an explicit keyword will result in an error or misinterpretation.\n",
      "  warnings.warn(\n"
     ]
    },
    {
     "data": {
      "image/png": "[encoded data removed]",
      "text/plain": [
       "<Figure size 1080x720 with 1 Axes>"
      ]
     },
     "metadata": {
      "needs_background": "light"
     },
     "output_type": "display_data"
    }
   ],
   "source": [
    "# plot two score together\n",
    "plt.figure(figsize=(15,10))\n",
    "p = sns.lineplot(range(1,40),train_scores,marker='*',label='Train Score')\n",
    "p = sns.lineplot(range(1,40),test_scores,marker='o',label='Test Score')"
   ]
  },
  {
   "cell_type": "code",
   "execution_count": 13,
   "metadata": {},
   "outputs": [],
   "source": [
    "# Calculating error for K values between 1 and 40\n",
    "error = []\n",
    "for i in range(1, 40):\n",
    "    knn = KNeighborsClassifier(n_neighbors=i)\n",
    "    knn.fit(X_train, y_train)\n",
    "    pred_i = knn.predict(X_test)\n",
    "    error.append(np.mean(pred_i != y_test))"
   ]
  },
  {
   "cell_type": "code",
   "execution_count": 16,
   "metadata": {},
   "outputs": [
    {
     "data": {
      "text/plain": [
       "Text(0, 0.5, 'Mean Error')"
      ]
     },
     "execution_count": 16,
     "metadata": {},
     "output_type": "execute_result"
    },
    {
     "data": {
      "image/png": "[encoded data removed]",
      "text/plain": [
       "<Figure size 1080x720 with 1 Axes>"
      ]
     },
     "metadata": {
      "needs_background": "light"
     },
     "output_type": "display_data"
    }
   ],
   "source": [
    "# plot error rate\n",
    "plt.figure(figsize=(15, 10))\n",
    "plt.plot(range(1, 40), error, linestyle='dashed', marker='o', markerfacecolor='blue', markersize=10)\n",
    "plt.title('Error Rate K Value')\n",
    "plt.xlabel('K Value')\n",
    "plt.ylabel('Mean Error')"
   ]
  },
  {
   "cell_type": "code",
   "execution_count": null,
   "metadata": {},
   "outputs": [],
   "source": []
  },
  {
   "cell_type": "code",
   "execution_count": null,
   "metadata": {},
   "outputs": [],
   "source": []
  }
 ],
 "metadata": {
  "kernelspec": {
   "display_name": "Python 3",
   "language": "python",
   "name": "python3"
  },
  "language_info": {
   "codemirror_mode": {
    "name": "ipython",
    "version": 3
   },
   "file_extension": ".py",
   "mimetype": "text/x-python",
   "name": "python",
   "nbconvert_exporter": "python",
   "pygments_lexer": "ipython3",
   "version": "3.8.8"
  },
  "toc": {
   "base_numbering": 1,
   "nav_menu": {},
   "number_sections": true,
   "sideBar": true,
   "skip_h1_title": false,
   "title_cell": "Table of Contents",
   "title_sidebar": "Contents",
   "toc_cell": false,
   "toc_position": {},
   "toc_section_display": true,
   "toc_window_display": false
  },
  "varInspector": {
   "cols": {
    "lenName": 16,
    "lenType": 16,
    "lenVar": 40
   },
   "kernels_config": {
    "python": {
     "delete_cmd_postfix": "",
     "delete_cmd_prefix": "del ",
     "library": "var_list.py",
     "varRefreshCmd": "print(var_dic_list())"
    },
    "r": {
     "delete_cmd_postfix": ") ",
     "delete_cmd_prefix": "rm(",
     "library": "var_list.r",
     "varRefreshCmd": "cat(var_dic_list()) "
    }
   },
   "types_to_exclude": [
    "module",
    "function",
    "builtin_function_or_method",
    "instance",
    "_Feature"
   ],
   "window_display": false
  }
 },
 "nbformat": 4,
 "nbformat_minor": 4
}
